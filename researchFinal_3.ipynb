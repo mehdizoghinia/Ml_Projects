{
  "nbformat": 4,
  "nbformat_minor": 0,
  "metadata": {
    "kernelspec": {
      "name": "python3",
      "display_name": "Python 3"
    },
    "language_info": {
      "codemirror_mode": {
        "name": "ipython",
        "version": 3
      },
      "file_extension": ".py",
      "mimetype": "text/x-python",
      "name": "python",
      "nbconvert_exporter": "python",
      "pygments_lexer": "ipython3",
      "version": "3.7.4"
    },
    "colab": {
      "name": "researchFinal-3.ipynb",
      "provenance": [],
      "collapsed_sections": []
    },
    "accelerator": "GPU"
  },
  "cells": [
    {
      "cell_type": "code",
      "metadata": {
        "id": "BDq-a9IlT_YO"
      },
      "source": [
        "import numpy as np\n",
        "import pandas as pd\n",
        "import matplotlib.pyplot as plt\n",
        "#%matplotlib inline"
      ],
      "execution_count": null,
      "outputs": []
    },
    {
      "cell_type": "code",
      "metadata": {
        "id": "eSOqMay3VyA9",
        "outputId": "57fa06f1-150f-46a9-df3b-8df7948ec43b",
        "colab": {
          "base_uri": "https://localhost:8080/",
          "height": 241
        }
      },
      "source": [
        "from sklearn.utils import shuffle  \n",
        "columns = [\"id\", \"activity\", \"time\", \"x\", \"y\", \"z\"]\n",
        "df =  pd.read_table(\"./data_1600_accel_phone.txt\",header=None,sep=',',names=columns)\n",
        "df = shuffle(df)  \n",
        "#df = df.query('activity==\"A\" or activity==\"B\" or activity==\"C\" or activity==\"D\" or activity==\"E\" or activity==\"F\"')\n",
        "df.head()"
      ],
      "execution_count": null,
      "outputs": [
        {
          "output_type": "execute_result",
          "data": {
            "text/html": [
              "<div>\n",
              "<style scoped>\n",
              "    .dataframe tbody tr th:only-of-type {\n",
              "        vertical-align: middle;\n",
              "    }\n",
              "\n",
              "    .dataframe tbody tr th {\n",
              "        vertical-align: top;\n",
              "    }\n",
              "\n",
              "    .dataframe thead th {\n",
              "        text-align: right;\n",
              "    }\n",
              "</style>\n",
              "<table border=\"1\" class=\"dataframe\">\n",
              "  <thead>\n",
              "    <tr style=\"text-align: right;\">\n",
              "      <th></th>\n",
              "      <th>id</th>\n",
              "      <th>activity</th>\n",
              "      <th>time</th>\n",
              "      <th>x</th>\n",
              "      <th>y</th>\n",
              "      <th>z</th>\n",
              "    </tr>\n",
              "  </thead>\n",
              "  <tbody>\n",
              "    <tr>\n",
              "      <th>55196</th>\n",
              "      <td>1600</td>\n",
              "      <td>Q</td>\n",
              "      <td>245090875172267</td>\n",
              "      <td>1.816498</td>\n",
              "      <td>9.362244</td>\n",
              "      <td>1.7045898;</td>\n",
              "    </tr>\n",
              "    <tr>\n",
              "      <th>52594</th>\n",
              "      <td>1600</td>\n",
              "      <td>P</td>\n",
              "      <td>253137863138414</td>\n",
              "      <td>-2.126907</td>\n",
              "      <td>9.449219</td>\n",
              "      <td>-2.4839478;</td>\n",
              "    </tr>\n",
              "    <tr>\n",
              "      <th>51370</th>\n",
              "      <td>1600</td>\n",
              "      <td>P</td>\n",
              "      <td>253076229848643</td>\n",
              "      <td>-6.449478</td>\n",
              "      <td>7.267929</td>\n",
              "      <td>-3.5643463;</td>\n",
              "    </tr>\n",
              "    <tr>\n",
              "      <th>48486</th>\n",
              "      <td>1600</td>\n",
              "      <td>O</td>\n",
              "      <td>252865699748795</td>\n",
              "      <td>-1.361008</td>\n",
              "      <td>9.740051</td>\n",
              "      <td>0.29631042;</td>\n",
              "    </tr>\n",
              "    <tr>\n",
              "      <th>50902</th>\n",
              "      <td>1600</td>\n",
              "      <td>P</td>\n",
              "      <td>253052664169927</td>\n",
              "      <td>-1.500076</td>\n",
              "      <td>10.152344</td>\n",
              "      <td>3.2945404;</td>\n",
              "    </tr>\n",
              "  </tbody>\n",
              "</table>\n",
              "</div>"
            ],
            "text/plain": [
              "         id activity             time         x          y            z\n",
              "55196  1600        Q  245090875172267  1.816498   9.362244   1.7045898;\n",
              "52594  1600        P  253137863138414 -2.126907   9.449219  -2.4839478;\n",
              "51370  1600        P  253076229848643 -6.449478   7.267929  -3.5643463;\n",
              "48486  1600        O  252865699748795 -1.361008   9.740051  0.29631042;\n",
              "50902  1600        P  253052664169927 -1.500076  10.152344   3.2945404;"
            ]
          },
          "metadata": {
            "tags": []
          },
          "execution_count": 27
        }
      ]
    },
    {
      "cell_type": "code",
      "metadata": {
        "id": "qJKYgbyob0eb",
        "outputId": "48d9cea0-b96a-4652-f6d4-2b5e44b6b368",
        "colab": {
          "base_uri": "https://localhost:8080/",
          "height": 206
        }
      },
      "source": [
        "print(df.isnull().sum())\n",
        "print(\"\\n== > There is no null value in the dataset.\")"
      ],
      "execution_count": null,
      "outputs": [
        {
          "output_type": "stream",
          "text": [
            "id          0\n",
            "activity    0\n",
            "time        0\n",
            "x           0\n",
            "y           0\n",
            "z           0\n",
            "dtype: int64\n",
            "\n",
            "== > There is no null value in the dataset.\n"
          ],
          "name": "stdout"
        }
      ]
    },
    {
      "cell_type": "code",
      "metadata": {
        "id": "55Xxu380b5xP",
        "outputId": "514b3fc3-75a0-4199-f0e4-8207a0178e9c",
        "colab": {
          "base_uri": "https://localhost:8080/",
          "height": 338
        }
      },
      "source": [
        "target_count = df['activity'].value_counts()\n",
        "target_count.plot(kind='bar', title='Count (target)')"
      ],
      "execution_count": null,
      "outputs": [
        {
          "output_type": "execute_result",
          "data": {
            "text/plain": [
              "<matplotlib.axes._subplots.AxesSubplot at 0x7ffa7e6084a8>"
            ]
          },
          "metadata": {
            "tags": []
          },
          "execution_count": 29
        },
        {
          "output_type": "display_data",
          "data": {
            "image/png": "[encoded data removed]",
            "text/plain": [
              "<Figure size 432x288 with 1 Axes>"
            ]
          },
          "metadata": {
            "tags": []
          }
        }
      ]
    },
    {
      "cell_type": "code",
      "metadata": {
        "id": "tW88UxZJV-00",
        "outputId": "141da69a-7fc3-49fa-9960-473ce35e4fd7",
        "colab": {
          "base_uri": "https://localhost:8080/",
          "height": 442
        }
      },
      "source": [
        "# data show in graph \n",
        "import seaborn as sns\n",
        "import matplotlib.pyplot as plt\n",
        "%matplotlib inline\n",
        "\n",
        "g = sns.FacetGrid(df, hue=\"activity\", size=5) \\\n",
        "   .map(plt.scatter, \"x\", \"y\") \\\n",
        "   .add_legend()\n",
        "#plt.savefig(\"activity distribution.png\"\n",
        "g.savefig(\"activity distribution.png\") "
      ],
      "execution_count": null,
      "outputs": [
        {
          "output_type": "stream",
          "text": [
            "/usr/local/lib/python3.6/dist-packages/seaborn/axisgrid.py:230: UserWarning: The `size` paramter has been renamed to `height`; please update your code.\n",
            "  warnings.warn(msg, UserWarning)\n"
          ],
          "name": "stderr"
        },
        {
          "output_type": "display_data",
          "data": {
            "image/png": "[encoded data removed]",
            "text/plain": [
              "<Figure size 404.875x360 with 1 Axes>"
            ]
          },
          "metadata": {
            "tags": []
          }
        }
      ]
    },
    {
      "cell_type": "code",
      "metadata": {
        "id": "zupGGiREV6YX",
        "outputId": "7f079852-a05f-405a-fe87-056088c7c45a",
        "colab": {
          "base_uri": "https://localhost:8080/",
          "height": 92
        }
      },
      "source": [
        "pre = np.array(df.iloc[: ,3:5])\n",
        "def get_name(name):\n",
        "    return name.split(';')[0]\n",
        "\n",
        "def remove_str(name):\n",
        "    return name.split(' ')[0]\n",
        "    \n",
        "    \n",
        "last = np.array(df.iloc[: ,5].apply(get_name))\n",
        "data = np.column_stack((pre,last))\n",
        "print(data.shape)\n",
        "target = np.array(df.iloc[:,1].apply(remove_str))\n",
        "print(target.shape)"
      ],
      "execution_count": null,
      "outputs": [
        {
          "output_type": "stream",
          "text": [
            "(64311, 3)\n",
            "(64311,)\n"
          ],
          "name": "stdout"
        }
      ]
    },
    {
      "cell_type": "code",
      "metadata": {
        "id": "mA6w5fneWywJ"
      },
      "source": [
        "from sklearn.model_selection import train_test_split\n",
        "from sklearn.preprocessing import LabelEncoder\n",
        "\n",
        "X = np.array(data.astype(float))\n",
        "Y = np.array(target)\n",
        "le = LabelEncoder()\n",
        "Y = le.fit_transform(Y)\n",
        "X_train, X_test, y_train, y_test = train_test_split(X, Y, test_size = 0.2, random_state = 0)"
      ],
      "execution_count": null,
      "outputs": []
    },
    {
      "cell_type": "code",
      "metadata": {
        "id": "iBkQVIoKcKFR",
        "outputId": "e068aa00-50b4-447d-8d1e-1204642ff7f3",
        "colab": {
          "base_uri": "https://localhost:8080/",
          "height": 74
        }
      },
      "source": [
        "y_train"
      ],
      "execution_count": null,
      "outputs": [
        {
          "output_type": "execute_result",
          "data": {
            "text/plain": [
              "array([16,  0, 16, ...,  1, 13,  3])"
            ]
          },
          "metadata": {
            "tags": []
          },
          "execution_count": 37
        }
      ]
    },
    {
      "cell_type": "code",
      "metadata": {
        "id": "hltX2jHB3ftH",
        "outputId": "2c8ff123-27c8-4a01-950c-7a2b92fe350b",
        "colab": {
          "base_uri": "https://localhost:8080/",
          "height": 74
        }
      },
      "source": [
        "X.shape , Y.shape"
      ],
      "execution_count": null,
      "outputs": [
        {
          "output_type": "execute_result",
          "data": {
            "text/plain": [
              "((64311, 3), (64311,))"
            ]
          },
          "metadata": {
            "tags": []
          },
          "execution_count": 38
        }
      ]
    },
    {
      "cell_type": "code",
      "metadata": {
        "id": "O-J33qGFaWj0",
        "outputId": "898bc64b-71db-4f7f-86b8-468e5909f8c1",
        "colab": {
          "base_uri": "https://localhost:8080/",
          "height": 74
        }
      },
      "source": [
        "X_train.shape, X_test.shape"
      ],
      "execution_count": null,
      "outputs": [
        {
          "output_type": "execute_result",
          "data": {
            "text/plain": [
              "((51448, 3), (12863, 3))"
            ]
          },
          "metadata": {
            "tags": []
          },
          "execution_count": 39
        }
      ]
    },
    {
      "cell_type": "code",
      "metadata": {
        "id": "C8dOUzE0upd9",
        "colab": {
          "base_uri": "https://localhost:8080/",
          "height": 74
        },
        "outputId": "3c4fc183-93e8-446a-bb1f-056af578bd05"
      },
      "source": [
        "from sklearn.naive_bayes import GaussianNB\n",
        "from sklearn.metrics import confusion_matrix, accuracy_score\n",
        "from sklearn.model_selection import cross_val_score\n",
        "\n",
        "# Instantiate learning model (k = 3)\n",
        "classifier = GaussianNB()\n",
        "\n",
        "# Fitting the model\n",
        "classifier.fit(X_train, y_train)\n",
        "\n",
        "# Predicting the Test set results\n",
        "y_pred = classifier.predict(X_test)\n",
        "accuracy = accuracy_score(y_test, y_pred)*100\n",
        "print('Accuracy of our model is equal ' + str(round(accuracy, 2)) + ' %.')"
      ],
      "execution_count": null,
      "outputs": [
        {
          "output_type": "stream",
          "text": [
            "Accuracy of our model is equal 74.29 %.\n"
          ],
          "name": "stdout"
        }
      ]
    },
    {
      "cell_type": "code",
      "metadata": {
        "id": "eoTYJOrGT_Yi",
        "outputId": "121c0e29-97d2-4745-ae29-f4886cfa1384",
        "colab": {
          "base_uri": "https://localhost:8080/",
          "height": 94
        }
      },
      "source": [
        "from sklearn.neighbors import KNeighborsClassifier\n",
        "from sklearn.metrics import confusion_matrix, accuracy_score\n",
        "from sklearn.model_selection import cross_val_score\n",
        "\n",
        "# Instantiate learning model (k = 3)\n",
        "classifier = KNeighborsClassifier(n_neighbors=3)\n",
        "\n",
        "# Fitting the model\n",
        "classifier.fit(X_train, y_train)\n",
        "\n",
        "# Predicting the Test set results\n",
        "y_pred = classifier.predict(X_test)\n",
        "accuracy = accuracy_score(y_test, y_pred)*100\n",
        "print('Accuracy of our model is equal ' + str(round(accuracy, 2)) + ' %.')"
      ],
      "execution_count": null,
      "outputs": [
        {
          "output_type": "stream",
          "text": [
            "Accuracy of our model is equal 79.9 %.\n"
          ],
          "name": "stdout"
        }
      ]
    },
    {
      "cell_type": "code",
      "metadata": {
        "id": "EdLiFFjJT_Yj",
        "outputId": "4d141247-e627-4322-8745-8546a63bdf8a",
        "colab": {
          "base_uri": "https://localhost:8080/",
          "height": 94
        }
      },
      "source": [
        "# creating list of K for KNN\n",
        "k_list = list(range(1,50,2))\n",
        "# creating list of cv scores\n",
        "cv_scores = []\n",
        "\n",
        "# perform 10-fold cross validation\n",
        "for k in k_list:\n",
        "    knn = KNeighborsClassifier(n_neighbors=k)\n",
        "    scores = cross_val_score(knn, X_train, y_train, cv=10, scoring='accuracy')\n",
        "    cv_scores.append(scores.mean())\n",
        "\n",
        "print(\"The max cross valitation score is \", np.max(cv_scores))"
      ],
      "execution_count": null,
      "outputs": [
        {
          "output_type": "stream",
          "text": [
            "The max cross valitation score is  0.822481757456379\n"
          ],
          "name": "stdout"
        }
      ]
    },
    {
      "cell_type": "code",
      "metadata": {
        "id": "39_jy7YeT_Yl"
      },
      "source": [
        "# changing to misclassification error\n",
        "MSE = [1 - x for x in cv_scores]\n",
        "\n",
        "plt.figure()\n",
        "plt.figure(figsize=(8,5))\n",
        "plt.title('The optimal number of neighbors', fontsize=12, fontweight='bold')\n",
        "plt.xlabel('Number of Neighbors K', fontsize=10)\n",
        "plt.ylabel('Misclassification Error', fontsize=10)\n",
        "sns.set_style(\"whitegrid\")\n",
        "plt.plot(k_list, MSE)\n",
        "\n",
        "plt.show()\n",
        "plt.savefig(\"The optimal number of neighbors.png\")"
      ],
      "execution_count": null,
      "outputs": []
    },
    {
      "cell_type": "code",
      "metadata": {
        "id": "1QxBrDAIT_Ym",
        "outputId": "d44d5b60-9a61-4c70-d8e5-d2fce2fb0038",
        "colab": {
          "base_uri": "https://localhost:8080/",
          "height": 74
        }
      },
      "source": [
        "# finding best k\n",
        "best_k = k_list[MSE.index(min(MSE))]\n",
        "print(\"The optimal number of neighbors is %d.\" % best_k)"
      ],
      "execution_count": null,
      "outputs": [
        {
          "output_type": "stream",
          "text": [
            "The optimal number of neighbors is 27.\n"
          ],
          "name": "stdout"
        }
      ]
    },
    {
      "cell_type": "code",
      "metadata": {
        "id": "6ByYy8dUT_Yo",
        "outputId": "fbd235b4-1b6e-4001-b129-c0cc2fc4eb0b",
        "colab": {
          "base_uri": "https://localhost:8080/",
          "height": 94
        }
      },
      "source": [
        "# when k = 33, test model \n",
        "classifier = KNeighborsClassifier(n_neighbors=41)\n",
        "\n",
        "# Fitting the model\n",
        "classifier.fit(X_train, y_train)\n",
        "\n",
        "# Predicting the Test set results\n",
        "y_pred = classifier.predict(X_test)\n",
        "accuracy = accuracy_score(y_test, y_pred)*100\n",
        "print('Accuracy of our model is when k = 49 : ' + str(round(accuracy, 2)) + ' %.')"
      ],
      "execution_count": null,
      "outputs": [
        {
          "output_type": "stream",
          "text": [
            "Accuracy of our model is when k = 49 : 82.34 %.\n"
          ],
          "name": "stdout"
        }
      ]
    },
    {
      "cell_type": "code",
      "metadata": {
        "id": "FGG3GE8XT_Yp",
        "outputId": "8b86ef00-108d-4c12-d6ac-b96e0c9ff596",
        "colab": {
          "base_uri": "https://localhost:8080/",
          "height": 94
        }
      },
      "source": [
        "# Using random forest \n",
        "#Import Random Forest Model\n",
        "from sklearn.ensemble import RandomForestClassifier\n",
        "\n",
        "#Create a RandomForestClassifier Classifier\n",
        "clf=RandomForestClassifier(n_estimators=100)\n",
        "\n",
        "#Train the model using the training sets y_pred=clf.predict(X_test)\n",
        "clf.fit(X_train,y_train)\n",
        "\n",
        "y_pred=clf.predict(X_test)\n",
        "\n",
        "#Import scikit-learn metrics module for accuracy calculation\n",
        "from sklearn import metrics\n",
        "# Model Accuracy, how often is the classifier correct?\n",
        "print(\"Accuracy RandomForestClassifier :\",metrics.accuracy_score(y_test, y_pred))"
      ],
      "execution_count": null,
      "outputs": [
        {
          "output_type": "stream",
          "text": [
            "Accuracy RandomForestClassifier : 0.8175386768250019\n"
          ],
          "name": "stdout"
        }
      ]
    },
    {
      "cell_type": "code",
      "metadata": {
        "id": "rog2lvsDT_Yr",
        "outputId": "238ea3dc-24d6-47d5-815d-266d1a8c5039",
        "colab": {
          "base_uri": "https://localhost:8080/",
          "height": 94
        }
      },
      "source": [
        "from sklearn.ensemble import GradientBoostingClassifier\n",
        "#Create a GradientBoostingClassifier Classifier\n",
        "clf=GradientBoostingClassifier()\n",
        "\n",
        "#Train the model using the training sets y_pred=clf.predict(X_test)\n",
        "clf.fit(X_train,y_train)\n",
        "\n",
        "y_pred=clf.predict(X_test)\n",
        "\n",
        "#Import scikit-learn metrics module for accuracy calculation\n",
        "from sklearn import metrics\n",
        "# Model Accuracy, how often is the classifier correct?\n",
        "print(\"Accuracy of GradientBoostingClassifier :\",metrics.accuracy_score(y_test, y_pred))"
      ],
      "execution_count": null,
      "outputs": [
        {
          "output_type": "stream",
          "text": [
            "Accuracy of GradientBoostingClassifier : 0.819015781699448\n"
          ],
          "name": "stdout"
        }
      ]
    },
    {
      "cell_type": "code",
      "metadata": {
        "id": "jlywQ-nt9bu7"
      },
      "source": [
        "def p_value(p): \n",
        "    alpha = 0.05\n",
        "    if p <= alpha :\n",
        "        print(\"we reject the null hypothesis that there's no difference between \"+ str(clf1 )+\" and \"+str(clf2) +\" classifier \")\n",
        "    elif p > alpha :\n",
        "        print(\"we cannot conclude that a significant difference between \"+str (clf1)+ \" and \"+ str(clf2)+ \" exists \")\n",
        "\n"
      ],
      "execution_count": null,
      "outputs": []
    },
    {
      "cell_type": "code",
      "metadata": {
        "id": "KD8RMkaXT_Ys"
      },
      "source": [
        "from mlxtend.evaluate import paired_ttest_5x2cv\n",
        "clf1 = KNeighborsClassifier(n_neighbors = 41)\n",
        "clf2 = GradientBoostingClassifier()\n",
        "\n",
        "t, p = paired_ttest_5x2cv(estimator1=clf1,\n",
        "                          estimator2=clf2,\n",
        "                          X=X_train, y=y_train,\n",
        "                          random_seed=1)\n",
        "\n",
        "print('t statistic: %.3f' % t)\n",
        "print('p value: %.3f' % p)\n",
        "p_value(p)"
      ],
      "execution_count": null,
      "outputs": []
    },
    {
      "cell_type": "code",
      "metadata": {
        "id": "RzeuDI4WfYMp"
      },
      "source": [
        "from mlxtend.evaluate import paired_ttest_5x2cv\n",
        "clf1 = KNeighborsClassifier()\n",
        "clf2 = RandomForestClassifier()\n",
        "\n",
        "t, p = paired_ttest_5x2cv(estimator1=clf1,\n",
        "                          estimator2=clf2,\n",
        "                          X=X_train, y=y_train,\n",
        "                          random_seed=1)\n",
        "\n",
        "print('t statistic: %.3f' % t)\n",
        "print('p value: %.3f' % p)\n",
        "p_value(p)"
      ],
      "execution_count": null,
      "outputs": []
    },
    {
      "cell_type": "code",
      "metadata": {
        "id": "9p5Od4jkCa1q"
      },
      "source": [
        "from sklearn.preprocessing import LabelBinarizer\n",
        "encoder = LabelBinarizer()\n",
        "Y = encoder.fit_transform(Y)\n",
        "X_train, X_test, y_train, y_test = train_test_split(X, Y, test_size = 0.2, random_state = 0)"
      ],
      "execution_count": null,
      "outputs": []
    },
    {
      "cell_type": "code",
      "metadata": {
        "id": "C0t_bj7E9_xD"
      },
      "source": [
        "# deep learning "
      ],
      "execution_count": null,
      "outputs": []
    },
    {
      "cell_type": "code",
      "metadata": {
        "id": "dnHpFSGl-CGY",
        "outputId": "ee216ee3-c36a-43f6-cfd2-9d07f8d5895f",
        "colab": {
          "base_uri": "https://localhost:8080/",
          "height": 200
        }
      },
      "source": [
        "from keras.models import Sequential\n",
        "from keras.layers import Dense, Dropout\n",
        "from keras import optimizers\n",
        "from keras.regularizers import l2, l1"
      ],
      "execution_count": null,
      "outputs": [
        {
          "output_type": "stream",
          "text": [
            "Using TensorFlow backend.\n"
          ],
          "name": "stderr"
        },
        {
          "output_type": "display_data",
          "data": {
            "text/html": [
              "<p style=\"color: red;\">\n",
              "The default version of TensorFlow in Colab will soon switch to TensorFlow 2.x.<br>\n",
              "We recommend you <a href=\"https://www.tensorflow.org/guide/migrate\" target=\"_blank\">upgrade</a> now \n",
              "or ensure your notebook will continue to use TensorFlow 1.x via the <code>%tensorflow_version 1.x</code> magic:\n",
              "<a href=\"https://colab.research.google.com/notebooks/tensorflow_version.ipynb\" target=\"_blank\">more info</a>.</p>\n"
            ],
            "text/plain": [
              "<IPython.core.display.HTML object>"
            ]
          },
          "metadata": {
            "tags": []
          }
        }
      ]
    },
    {
      "cell_type": "code",
      "metadata": {
        "id": "lRSKyTCs-DMQ"
      },
      "source": [
        "model = Sequential()\n",
        "model.add(Dense(8, input_dim=3, activation='relu')) # kernel_regularizer=l1(0.001)\n",
        "model.add(Dropout(0.1))\n",
        "model.add(Dense(32, activation='relu'))\n",
        "model.add(Dense(64, activation = 'relu'))\n",
        "#model.add(Dense(64, activation = 'relu'))\n",
        "#model.add(Dropout(0.5))\n",
        "#model.add(Dense(16, activation='relu'))\n",
        "#model.add(Dense(15 , activation = 'relu'))\n",
        "#model.add(Dropout(0.2))\n",
        "#model.add(Dense(7, activation='relu'))\n",
        "model.add(Dense(18, activation='softmax'))\n",
        "optim = optimizers.SGD(lr=0.004, momentum=0.9, decay=0.0, nesterov=False)"
      ],
      "execution_count": null,
      "outputs": []
    },
    {
      "cell_type": "code",
      "metadata": {
        "id": "q8_qym_q-Z5y"
      },
      "source": [
        "# compile the keras model\n",
        "model.compile(loss='categorical_crossentropy', optimizer= optim, metrics=['accuracy'])"
      ],
      "execution_count": null,
      "outputs": []
    },
    {
      "cell_type": "code",
      "metadata": {
        "id": "C6Q5twKT-eqQ",
        "outputId": "c30b483b-f8fe-4dbf-b9af-75c47d4a8836",
        "colab": {
          "base_uri": "https://localhost:8080/",
          "height": 1000
        }
      },
      "source": [
        "# fit the keras model on the dataset\n",
        "n_epochs = 20\n",
        "model.fit(X_train, y_train, epochs = n_epochs , batch_size=32)"
      ],
      "execution_count": null,
      "outputs": [
        {
          "output_type": "stream",
          "text": [
            "Epoch 1/20\n",
            "51448/51448 [==============================] - 5s 95us/step - loss: 0.6243 - acc: 0.7763\n",
            "Epoch 2/20\n",
            "51448/51448 [==============================] - 5s 96us/step - loss: 0.6230 - acc: 0.7766\n",
            "Epoch 3/20\n",
            "51448/51448 [==============================] - 5s 96us/step - loss: 0.6206 - acc: 0.7779\n",
            "Epoch 4/20\n",
            "51448/51448 [==============================] - 5s 96us/step - loss: 0.6223 - acc: 0.7775\n",
            "Epoch 5/20\n",
            "51448/51448 [==============================] - 5s 92us/step - loss: 0.6227 - acc: 0.7778\n",
            "Epoch 6/20\n",
            "51448/51448 [==============================] - 5s 95us/step - loss: 0.6231 - acc: 0.7767\n",
            "Epoch 7/20\n",
            "51448/51448 [==============================] - 5s 95us/step - loss: 0.6192 - acc: 0.7782\n",
            "Epoch 8/20\n",
            "51448/51448 [==============================] - 5s 96us/step - loss: 0.6170 - acc: 0.7779\n",
            "Epoch 9/20\n",
            "51448/51448 [==============================] - 5s 99us/step - loss: 0.6159 - acc: 0.7789\n",
            "Epoch 10/20\n",
            "51448/51448 [==============================] - 5s 100us/step - loss: 0.6201 - acc: 0.7781\n",
            "Epoch 11/20\n",
            "51448/51448 [==============================] - 5s 96us/step - loss: 0.6153 - acc: 0.7786\n",
            "Epoch 12/20\n",
            "51448/51448 [==============================] - 5s 97us/step - loss: 0.6154 - acc: 0.7784\n",
            "Epoch 13/20\n",
            "51448/51448 [==============================] - 5s 94us/step - loss: 0.6101 - acc: 0.7819\n",
            "Epoch 14/20\n",
            "51448/51448 [==============================] - 5s 97us/step - loss: 0.6156 - acc: 0.7792\n",
            "Epoch 15/20\n",
            "51448/51448 [==============================] - 5s 95us/step - loss: 0.6144 - acc: 0.7781\n",
            "Epoch 16/20\n",
            "51448/51448 [==============================] - 5s 94us/step - loss: 0.6145 - acc: 0.7811\n",
            "Epoch 17/20\n",
            "51448/51448 [==============================] - 5s 95us/step - loss: 0.6161 - acc: 0.7774\n",
            "Epoch 18/20\n",
            "51448/51448 [==============================] - 5s 92us/step - loss: 0.6103 - acc: 0.7803\n",
            "Epoch 19/20\n",
            "51448/51448 [==============================] - 5s 93us/step - loss: 0.6134 - acc: 0.7807\n",
            "Epoch 20/20\n",
            "51448/51448 [==============================] - 5s 94us/step - loss: 0.6105 - acc: 0.7794\n"
          ],
          "name": "stdout"
        },
        {
          "output_type": "execute_result",
          "data": {
            "text/plain": [
              "<keras.callbacks.History at 0x7f725e108588>"
            ]
          },
          "metadata": {
            "tags": []
          },
          "execution_count": 66
        }
      ]
    },
    {
      "cell_type": "code",
      "metadata": {
        "id": "CtLMVYp-B3PH",
        "outputId": "346ec493-8c43-4892-beec-93b770c66792",
        "colab": {
          "base_uri": "https://localhost:8080/",
          "height": 154
        }
      },
      "source": [
        "# evaluate the keras model\n",
        "_, accuracy = model.evaluate(X_test, y_test)\n",
        "print('Accuracy: %.2f' % (accuracy*100))"
      ],
      "execution_count": null,
      "outputs": [
        {
          "output_type": "stream",
          "text": [
            "12863/12863 [==============================] - 1s 40us/step\n",
            "Accuracy: 79.59\n"
          ],
          "name": "stdout"
        }
      ]
    },
    {
      "cell_type": "code",
      "metadata": {
        "id": "50AqygtjDAGc",
        "colab": {
          "base_uri": "https://localhost:8080/",
          "height": 154
        },
        "outputId": "3dff095b-f437-4a6e-bf68-00c6d1fdcbbc"
      },
      "source": [
        "X_train.shape , y_test.shape"
      ],
      "execution_count": null,
      "outputs": [
        {
          "output_type": "execute_result",
          "data": {
            "text/plain": [
              "((51448, 3), (12863, 18))"
            ]
          },
          "metadata": {
            "tags": []
          },
          "execution_count": 41
        }
      ]
    },
    {
      "cell_type": "code",
      "metadata": {
        "id": "2nZbtk2QC7Z_"
      },
      "source": [
        "X_tr = X_train.reshape(51448, 3 , 1)\n",
        "X_ts = X_test.reshape(12863 , 3 , 1)"
      ],
      "execution_count": null,
      "outputs": []
    },
    {
      "cell_type": "code",
      "metadata": {
        "id": "4omHk0QyoGKl"
      },
      "source": [
        ""
      ],
      "execution_count": null,
      "outputs": []
    },
    {
      "cell_type": "code",
      "metadata": {
        "id": "IE98tRjM5ewS"
      },
      "source": [
        "from keras.layers.convolutional import Conv1D\n",
        "from keras.layers.convolutional import MaxPooling1D\n",
        "from keras.layers import Flatten, Dropout\n",
        "model = Sequential()\n",
        "model.add(Conv1D(filters=64, kernel_size=3, activation='relu', input_shape=(3,1)))\n",
        "#model.add(Conv1D(filters=64, kernel_size=2, activation='relu'))\n",
        "model.add(Dropout(0.1))\n",
        "model.add(MaxPooling1D(pool_size=1))\n",
        "#model.add(Conv1D(filters=64, kernel_size=1, activation='relu'))\n",
        "model.add(Flatten())\n",
        "model.add(Dense(120, activation='relu'))\n",
        "model.add(Dense(18, activation='softmax'))\n"
      ],
      "execution_count": null,
      "outputs": []
    },
    {
      "cell_type": "code",
      "metadata": {
        "id": "0UXrsOjkER8i"
      },
      "source": [
        "model.compile(loss='categorical_crossentropy', optimizer= 'adam', metrics=['accuracy'])"
      ],
      "execution_count": null,
      "outputs": []
    },
    {
      "cell_type": "code",
      "metadata": {
        "id": "XNq-B2_5Cwyq",
        "colab": {
          "base_uri": "https://localhost:8080/",
          "height": 94
        },
        "outputId": "2693e737-b34a-4580-a3db-43541a758074"
      },
      "source": [
        "\tmodel.fit(X_tr, y_train, epochs=n_epochs, batch_size=32, verbose=0)\n"
      ],
      "execution_count": null,
      "outputs": [
        {
          "output_type": "execute_result",
          "data": {
            "text/plain": [
              "<keras.callbacks.History at 0x7f723fad8080>"
            ]
          },
          "metadata": {
            "tags": []
          },
          "execution_count": 86
        }
      ]
    },
    {
      "cell_type": "code",
      "metadata": {
        "id": "7ZRIP2F8Ez3N",
        "colab": {
          "base_uri": "https://localhost:8080/",
          "height": 174
        },
        "outputId": "cadcb905-7593-4a92-b8f3-28b7badab5a6"
      },
      "source": [
        "# evaluate the keras model\n",
        "_, accuracy = model.evaluate(X_ts, y_test)\n",
        "print('Accuracy: %.2f' % (accuracy*100))"
      ],
      "execution_count": null,
      "outputs": [
        {
          "output_type": "stream",
          "text": [
            "12863/12863 [==============================] - 1s 68us/step\n",
            "Accuracy: 80.09\n"
          ],
          "name": "stdout"
        }
      ]
    },
    {
      "cell_type": "code",
      "metadata": {
        "id": "NiHYG2cHF0PB"
      },
      "source": [
        ""
      ],
      "execution_count": null,
      "outputs": []
    }
  ]
}