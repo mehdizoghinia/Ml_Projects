{
  "nbformat": 4,
  "nbformat_minor": 0,
  "metadata": {
    "colab": {
      "name": "SL_Final_2.ipynb",
      "provenance": []
    },
    "kernelspec": {
      "name": "python3",
      "display_name": "Python 3"
    },
    "accelerator": "GPU"
  },
  "cells": [
    {
      "cell_type": "code",
      "metadata": {
        "id": "daxogGfHRzAV"
      },
      "source": [
        "import numpy as np\n",
        "import pandas as pd\n"
      ],
      "execution_count": null,
      "outputs": []
    },
    {
      "cell_type": "code",
      "metadata": {
        "id": "7zw2XfVnXGQM",
        "outputId": "d9efad89-fbf0-466d-f32f-ecd243e0302b",
        "colab": {
          "base_uri": "https://localhost:8080/",
          "height": 54
        }
      },
      "source": [
        "from google.colab import drive\n",
        "drive.mount('/content/drive')"
      ],
      "execution_count": null,
      "outputs": [
        {
          "output_type": "stream",
          "text": [
            "Drive already mounted at /content/drive; to attempt to forcibly remount, call drive.mount(\"/content/drive\", force_remount=True).\n"
          ],
          "name": "stdout"
        }
      ]
    },
    {
      "cell_type": "code",
      "metadata": {
        "id": "Vtwdej8kXRqD",
        "outputId": "c966ad22-a5bd-493b-b11a-c9ff842721ee",
        "colab": {
          "base_uri": "https://localhost:8080/",
          "height": 51
        }
      },
      "source": [
        "cd drive/My\\ Drive"
      ],
      "execution_count": null,
      "outputs": [
        {
          "output_type": "stream",
          "text": [
            "[Errno 2] No such file or directory: 'drive/My Drive'\n",
            "/content/drive/My Drive/raw/watch/gyro\n"
          ],
          "name": "stdout"
        }
      ]
    },
    {
      "cell_type": "code",
      "metadata": {
        "id": "chXlM1lYXqNm",
        "outputId": "2845fbf2-07b5-4a4d-bc3e-3eeb848fe57d",
        "colab": {
          "base_uri": "https://localhost:8080/",
          "height": 51
        }
      },
      "source": [
        "cd raw/phone/accel/"
      ],
      "execution_count": null,
      "outputs": [
        {
          "output_type": "stream",
          "text": [
            "[Errno 2] No such file or directory: 'raw/phone/accel/'\n",
            "/content/drive/My Drive/raw/watch/gyro\n"
          ],
          "name": "stdout"
        }
      ]
    },
    {
      "cell_type": "code",
      "metadata": {
        "id": "-X6Da_Xrz3T4"
      },
      "source": [
        ""
      ],
      "execution_count": null,
      "outputs": []
    },
    {
      "cell_type": "code",
      "metadata": {
        "id": "GCLuskTiT1Ji"
      },
      "source": [
        "import glob\n",
        "txt = glob.glob('*.txt')"
      ],
      "execution_count": null,
      "outputs": []
    },
    {
      "cell_type": "code",
      "metadata": {
        "id": "Ior-5mZ1UJk3"
      },
      "source": [
        "phone_accel = []\n",
        "for infile in glob.glob('*.txt'):\n",
        "    data = pd.read_csv(infile, sep=\",\", header=None)\n",
        "    # store DataFrame in list\n",
        "    phone_accel.append(data)\n",
        "# see pd.concat documentation for more info\n",
        "phone_accel = pd.concat(phone_accel)\n",
        "\n"
      ],
      "execution_count": null,
      "outputs": []
    },
    {
      "cell_type": "code",
      "metadata": {
        "id": "UZevrMSEVg3X"
      },
      "source": [
        "phone_accel.columns = [\"id\",\"activity-code\",\"timestamp\",\"x\",\"y\",\"z\"]"
      ],
      "execution_count": null,
      "outputs": []
    },
    {
      "cell_type": "code",
      "metadata": {
        "id": "zO-_6u4lPSjH"
      },
      "source": [
        "\n",
        "phone_accel[\"type\"] = np.full((phone_accel.shape[0], 1), 1, dtype=int)"
      ],
      "execution_count": null,
      "outputs": []
    },
    {
      "cell_type": "code",
      "metadata": {
        "id": "GXZ7DSNH00a-",
        "outputId": "0e3d4c09-d6f9-4864-f542-de43ed2603ce",
        "colab": {
          "base_uri": "https://localhost:8080/",
          "height": 34
        }
      },
      "source": [
        "cd ../gyro/"
      ],
      "execution_count": null,
      "outputs": [
        {
          "output_type": "stream",
          "text": [
            "/content/drive/My Drive/raw/watch/gyro\n"
          ],
          "name": "stdout"
        }
      ]
    },
    {
      "cell_type": "code",
      "metadata": {
        "id": "dQlO2OPR1DrE"
      },
      "source": [
        "phone_gyro = []\n",
        "for infile in glob.glob('*.txt'):\n",
        "    data = pd.read_csv(infile, sep=\",\", header=None)\n",
        "    # store DataFrame in list\n",
        "    phone_gyro.append(data)\n",
        "# see pd.concat documentation for more info\n",
        "phone_gyro = pd.concat(phone_gyro)\n",
        "phone_gyro.columns = [\"id\",\"activity-code\",\"timestamp\",\"x\",\"y\",\"z\"]\n",
        "phone_gyro[\"type\"] = np.full((phone_gyro.shape[0], 1), 2, dtype=int)"
      ],
      "execution_count": null,
      "outputs": []
    },
    {
      "cell_type": "code",
      "metadata": {
        "id": "i8otoWrb1lJh",
        "outputId": "c7984960-49b6-4301-99ff-2db46e24e718",
        "colab": {
          "base_uri": "https://localhost:8080/",
          "height": 34
        }
      },
      "source": [
        "cd ../../watch/accel/"
      ],
      "execution_count": null,
      "outputs": [
        {
          "output_type": "stream",
          "text": [
            "/content/drive/My Drive/raw/watch/accel\n"
          ],
          "name": "stdout"
        }
      ]
    },
    {
      "cell_type": "code",
      "metadata": {
        "id": "71gLvwgc1xgH"
      },
      "source": [
        "watch_accel = []\n",
        "for infile in glob.glob('*.txt'):\n",
        "    data = pd.read_csv(infile, sep=\",\", header=None)\n",
        "    # store DataFrame in list\n",
        "    watch_accel.append(data)\n",
        "# see pd.concat documentation for more info\n",
        "watch_accel = pd.concat(watch_accel)\n",
        "watch_accel.columns = [\"id\",\"activity-code\",\"timestamp\",\"x\",\"y\",\"z\"]\n",
        "watch_accel[\"type\"] = np.full((watch_accel.shape[0], 1), 3, dtype=int)"
      ],
      "execution_count": null,
      "outputs": []
    },
    {
      "cell_type": "code",
      "metadata": {
        "id": "t_SMuxfk16rf",
        "outputId": "76f90d6e-7f63-47c4-a576-0b6c5503d368",
        "colab": {
          "base_uri": "https://localhost:8080/",
          "height": 34
        }
      },
      "source": [
        "cd ../gyro/"
      ],
      "execution_count": null,
      "outputs": [
        {
          "output_type": "stream",
          "text": [
            "/content/drive/My Drive/raw/watch/gyro\n"
          ],
          "name": "stdout"
        }
      ]
    },
    {
      "cell_type": "code",
      "metadata": {
        "id": "E4NBhLv82GfL"
      },
      "source": [
        "watch_gyro = []\n",
        "for infile in glob.glob('*.txt'):\n",
        "    data = pd.read_csv(infile, sep=\",\", header=None)\n",
        "    # store DataFrame in list\n",
        "    watch_gyro.append(data)\n",
        "# see pd.concat documentation for more info\n",
        "watch_gyro = pd.concat(watch_gyro)\n",
        "watch_gyro.columns = [\"id\",\"activity-code\",\"timestamp\",\"x\",\"y\",\"z\"]\n",
        "watch_gyro[\"type\"] = np.full((watch_gyro.shape[0], 1), 4, dtype=int)"
      ],
      "execution_count": null,
      "outputs": []
    },
    {
      "cell_type": "code",
      "metadata": {
        "id": "_Jx1IqBy2Ex2"
      },
      "source": [
        "column = [\"id\",\"activity-code\",\"timestamp\",\"x\",\"y\",\"z\",\"type\"]\n",
        "data = pd.DataFrame(columns=column)"
      ],
      "execution_count": null,
      "outputs": []
    },
    {
      "cell_type": "code",
      "metadata": {
        "id": "X-EGnCHg2_IB"
      },
      "source": [
        ""
      ],
      "execution_count": null,
      "outputs": []
    },
    {
      "cell_type": "code",
      "metadata": {
        "id": "VPe8BLGJ3myw"
      },
      "source": [
        "data = pd.concat([phone_accel, phone_gyro,watch_accel, watch_gyro ])"
      ],
      "execution_count": null,
      "outputs": []
    },
    {
      "cell_type": "code",
      "metadata": {
        "id": "1Jc8n2MT8xO6",
        "outputId": "3ebe0e63-8319-405a-f635-08fa789ebf1a",
        "colab": {
          "base_uri": "https://localhost:8080/",
          "height": 34
        }
      },
      "source": [
        "data.shape"
      ],
      "execution_count": null,
      "outputs": [
        {
          "output_type": "execute_result",
          "data": {
            "text/plain": [
              "(14098072, 7)"
            ]
          },
          "metadata": {
            "tags": []
          },
          "execution_count": 236
        }
      ]
    },
    {
      "cell_type": "code",
      "metadata": {
        "id": "6tPF1vO35Oy_"
      },
      "source": [
        "data = data.sample(frac=0.9, replace=True, random_state=1)"
      ],
      "execution_count": null,
      "outputs": []
    },
    {
      "cell_type": "code",
      "metadata": {
        "id": "TC1hZpGW8tMM",
        "outputId": "d1dbc60a-9b6f-4529-8317-70edaa83b978",
        "colab": {
          "base_uri": "https://localhost:8080/",
          "height": 34
        }
      },
      "source": [
        "data.shape"
      ],
      "execution_count": null,
      "outputs": [
        {
          "output_type": "execute_result",
          "data": {
            "text/plain": [
              "(12688265, 7)"
            ]
          },
          "metadata": {
            "tags": []
          },
          "execution_count": 238
        }
      ]
    },
    {
      "cell_type": "code",
      "metadata": {
        "id": "KjFeqefvR06r"
      },
      "source": [
        "data[data.columns[5]] = data[data.columns[5]].replace({';':''}, regex=True)"
      ],
      "execution_count": null,
      "outputs": []
    },
    {
      "cell_type": "code",
      "metadata": {
        "id": "xdwLm8ueUCX2"
      },
      "source": [
        "data['z'] = pd.to_numeric(data['z'])"
      ],
      "execution_count": null,
      "outputs": []
    },
    {
      "cell_type": "code",
      "metadata": {
        "id": "Smt8GYFkajX8",
        "outputId": "d92384d9-5806-461e-9336-c2f50d897ad7",
        "colab": {
          "base_uri": "https://localhost:8080/",
          "height": 238
        }
      },
      "source": [
        "data[\"activity-code\"].astype('category')"
      ],
      "execution_count": null,
      "outputs": [
        {
          "output_type": "execute_result",
          "data": {
            "text/plain": [
              "11461     D\n",
              "7112      B\n",
              "13383     D\n",
              "25365     H\n",
              "35287     J\n",
              "         ..\n",
              "49843     M\n",
              "36887     L\n",
              "32105     I\n",
              "6058      B\n",
              "102038    K\n",
              "Name: activity-code, Length: 12688265, dtype: category\n",
              "Categories (18, object): [A, B, C, D, ..., P, Q, R, S]"
            ]
          },
          "metadata": {
            "tags": []
          },
          "execution_count": 241
        }
      ]
    },
    {
      "cell_type": "code",
      "metadata": {
        "id": "Kkve4pnn53JT",
        "outputId": "f385546e-5e3b-4de0-93cd-00ccf53d03f3",
        "colab": {
          "base_uri": "https://localhost:8080/",
          "height": 297
        }
      },
      "source": [
        "data.describe()"
      ],
      "execution_count": null,
      "outputs": [
        {
          "output_type": "execute_result",
          "data": {
            "text/html": [
              "<div>\n",
              "<style scoped>\n",
              "    .dataframe tbody tr th:only-of-type {\n",
              "        vertical-align: middle;\n",
              "    }\n",
              "\n",
              "    .dataframe tbody tr th {\n",
              "        vertical-align: top;\n",
              "    }\n",
              "\n",
              "    .dataframe thead th {\n",
              "        text-align: right;\n",
              "    }\n",
              "</style>\n",
              "<table border=\"1\" class=\"dataframe\">\n",
              "  <thead>\n",
              "    <tr style=\"text-align: right;\">\n",
              "      <th></th>\n",
              "      <th>id</th>\n",
              "      <th>timestamp</th>\n",
              "      <th>x</th>\n",
              "      <th>y</th>\n",
              "      <th>z</th>\n",
              "      <th>type</th>\n",
              "    </tr>\n",
              "  </thead>\n",
              "  <tbody>\n",
              "    <tr>\n",
              "      <th>count</th>\n",
              "      <td>1.268826e+07</td>\n",
              "      <td>1.268826e+07</td>\n",
              "      <td>1.268826e+07</td>\n",
              "      <td>1.268826e+07</td>\n",
              "      <td>1.268826e+07</td>\n",
              "      <td>1.268826e+07</td>\n",
              "    </tr>\n",
              "    <tr>\n",
              "      <th>mean</th>\n",
              "      <td>1.625495e+03</td>\n",
              "      <td>6.222779e+14</td>\n",
              "      <td>8.269486e-02</td>\n",
              "      <td>-1.219977e+00</td>\n",
              "      <td>5.050632e-01</td>\n",
              "      <td>2.511757e+00</td>\n",
              "    </tr>\n",
              "    <tr>\n",
              "      <th>std</th>\n",
              "      <td>1.453504e+01</td>\n",
              "      <td>6.889224e+14</td>\n",
              "      <td>3.850641e+00</td>\n",
              "      <td>3.617879e+00</td>\n",
              "      <td>3.074842e+00</td>\n",
              "      <td>1.107077e+00</td>\n",
              "    </tr>\n",
              "    <tr>\n",
              "      <th>min</th>\n",
              "      <td>1.600000e+03</td>\n",
              "      <td>1.622154e+12</td>\n",
              "      <td>-7.063152e+01</td>\n",
              "      <td>-7.816625e+01</td>\n",
              "      <td>-7.847761e+01</td>\n",
              "      <td>1.000000e+00</td>\n",
              "    </tr>\n",
              "    <tr>\n",
              "      <th>25%</th>\n",
              "      <td>1.613000e+03</td>\n",
              "      <td>8.365832e+13</td>\n",
              "      <td>-6.848172e-01</td>\n",
              "      <td>-1.529234e+00</td>\n",
              "      <td>-2.458976e-01</td>\n",
              "      <td>2.000000e+00</td>\n",
              "    </tr>\n",
              "    <tr>\n",
              "      <th>50%</th>\n",
              "      <td>1.626000e+03</td>\n",
              "      <td>3.721896e+14</td>\n",
              "      <td>-2.130529e-03</td>\n",
              "      <td>-3.307406e-02</td>\n",
              "      <td>9.961554e-03</td>\n",
              "      <td>3.000000e+00</td>\n",
              "    </tr>\n",
              "    <tr>\n",
              "      <th>75%</th>\n",
              "      <td>1.638000e+03</td>\n",
              "      <td>9.098129e+14</td>\n",
              "      <td>5.281717e-01</td>\n",
              "      <td>1.252980e-01</td>\n",
              "      <td>8.762778e-01</td>\n",
              "      <td>3.000000e+00</td>\n",
              "    </tr>\n",
              "    <tr>\n",
              "      <th>max</th>\n",
              "      <td>1.650000e+03</td>\n",
              "      <td>2.724599e+15</td>\n",
              "      <td>5.016129e+01</td>\n",
              "      <td>3.560197e+01</td>\n",
              "      <td>6.507508e+01</td>\n",
              "      <td>4.000000e+00</td>\n",
              "    </tr>\n",
              "  </tbody>\n",
              "</table>\n",
              "</div>"
            ],
            "text/plain": [
              "                 id     timestamp  ...             z          type\n",
              "count  1.268826e+07  1.268826e+07  ...  1.268826e+07  1.268826e+07\n",
              "mean   1.625495e+03  6.222779e+14  ...  5.050632e-01  2.511757e+00\n",
              "std    1.453504e+01  6.889224e+14  ...  3.074842e+00  1.107077e+00\n",
              "min    1.600000e+03  1.622154e+12  ... -7.847761e+01  1.000000e+00\n",
              "25%    1.613000e+03  8.365832e+13  ... -2.458976e-01  2.000000e+00\n",
              "50%    1.626000e+03  3.721896e+14  ...  9.961554e-03  3.000000e+00\n",
              "75%    1.638000e+03  9.098129e+14  ...  8.762778e-01  3.000000e+00\n",
              "max    1.650000e+03  2.724599e+15  ...  6.507508e+01  4.000000e+00\n",
              "\n",
              "[8 rows x 6 columns]"
            ]
          },
          "metadata": {
            "tags": []
          },
          "execution_count": 242
        }
      ]
    },
    {
      "cell_type": "code",
      "metadata": {
        "id": "6tAquK9J6S1w"
      },
      "source": [
        "data[data.columns[2]] = pd.cut(data[data.columns[2]], bins=[268102700000, 107914500000000, 370481700000000,940768200000000,2724599999999999, float('Inf')], labels=False)#timestamp\n"
      ],
      "execution_count": null,
      "outputs": []
    },
    {
      "cell_type": "code",
      "metadata": {
        "id": "qbvXtE-P6d1Z",
        "outputId": "0fdbc410-0c36-4b2d-cd70-f9000b8bde2b",
        "colab": {
          "base_uri": "https://localhost:8080/",
          "height": 153
        }
      },
      "source": [
        "data.isnull().sum()"
      ],
      "execution_count": null,
      "outputs": [
        {
          "output_type": "execute_result",
          "data": {
            "text/plain": [
              "id               0\n",
              "activity-code    0\n",
              "timestamp        0\n",
              "x                0\n",
              "y                0\n",
              "z                0\n",
              "type             0\n",
              "dtype: int64"
            ]
          },
          "metadata": {
            "tags": []
          },
          "execution_count": 244
        }
      ]
    },
    {
      "cell_type": "code",
      "metadata": {
        "id": "ev3bMKd-6RtR"
      },
      "source": [
        "df = pd.DataFrame(data, columns = data.columns)\n",
        "X = df[[df.columns[2],df.columns[3],df.columns[4],df.columns[5],df.columns[6] ]] \n",
        "y = df[[df.columns[1]]]\n"
      ],
      "execution_count": null,
      "outputs": []
    },
    {
      "cell_type": "code",
      "metadata": {
        "id": "6G_B21_t_5SO",
        "outputId": "1385ffab-a826-4dd5-df53-0c9e798a7608",
        "colab": {
          "base_uri": "https://localhost:8080/",
          "height": 669
        }
      },
      "source": [
        "X.head(20)"
      ],
      "execution_count": null,
      "outputs": [
        {
          "output_type": "execute_result",
          "data": {
            "text/html": [
              "<div>\n",
              "<style scoped>\n",
              "    .dataframe tbody tr th:only-of-type {\n",
              "        vertical-align: middle;\n",
              "    }\n",
              "\n",
              "    .dataframe tbody tr th {\n",
              "        vertical-align: top;\n",
              "    }\n",
              "\n",
              "    .dataframe thead th {\n",
              "        text-align: right;\n",
              "    }\n",
              "</style>\n",
              "<table border=\"1\" class=\"dataframe\">\n",
              "  <thead>\n",
              "    <tr style=\"text-align: right;\">\n",
              "      <th></th>\n",
              "      <th>timestamp</th>\n",
              "      <th>x</th>\n",
              "      <th>y</th>\n",
              "      <th>z</th>\n",
              "      <th>type</th>\n",
              "    </tr>\n",
              "  </thead>\n",
              "  <tbody>\n",
              "    <tr>\n",
              "      <th>11461</th>\n",
              "      <td>3</td>\n",
              "      <td>0.006626</td>\n",
              "      <td>0.001715</td>\n",
              "      <td>0.001208</td>\n",
              "      <td>4</td>\n",
              "    </tr>\n",
              "    <tr>\n",
              "      <th>7112</th>\n",
              "      <td>1</td>\n",
              "      <td>-1.198896</td>\n",
              "      <td>-2.894789</td>\n",
              "      <td>2.663176</td>\n",
              "      <td>2</td>\n",
              "    </tr>\n",
              "    <tr>\n",
              "      <th>13383</th>\n",
              "      <td>3</td>\n",
              "      <td>0.007730</td>\n",
              "      <td>0.001802</td>\n",
              "      <td>0.004887</td>\n",
              "      <td>2</td>\n",
              "    </tr>\n",
              "    <tr>\n",
              "      <th>25365</th>\n",
              "      <td>2</td>\n",
              "      <td>-0.546008</td>\n",
              "      <td>-0.031650</td>\n",
              "      <td>0.130098</td>\n",
              "      <td>4</td>\n",
              "    </tr>\n",
              "    <tr>\n",
              "      <th>35287</th>\n",
              "      <td>1</td>\n",
              "      <td>-4.599004</td>\n",
              "      <td>0.496122</td>\n",
              "      <td>-0.542906</td>\n",
              "      <td>1</td>\n",
              "    </tr>\n",
              "    <tr>\n",
              "      <th>47188</th>\n",
              "      <td>1</td>\n",
              "      <td>-0.045806</td>\n",
              "      <td>0.400539</td>\n",
              "      <td>-0.610397</td>\n",
              "      <td>4</td>\n",
              "    </tr>\n",
              "    <tr>\n",
              "      <th>44164</th>\n",
              "      <td>2</td>\n",
              "      <td>-1.075425</td>\n",
              "      <td>0.836135</td>\n",
              "      <td>0.105588</td>\n",
              "      <td>2</td>\n",
              "    </tr>\n",
              "    <tr>\n",
              "      <th>86511</th>\n",
              "      <td>2</td>\n",
              "      <td>1.772742</td>\n",
              "      <td>0.596813</td>\n",
              "      <td>1.253376</td>\n",
              "      <td>4</td>\n",
              "    </tr>\n",
              "    <tr>\n",
              "      <th>25253</th>\n",
              "      <td>3</td>\n",
              "      <td>-2.759063</td>\n",
              "      <td>-8.555010</td>\n",
              "      <td>-0.392783</td>\n",
              "      <td>3</td>\n",
              "    </tr>\n",
              "    <tr>\n",
              "      <th>24647</th>\n",
              "      <td>1</td>\n",
              "      <td>3.907487</td>\n",
              "      <td>-0.436792</td>\n",
              "      <td>9.121011</td>\n",
              "      <td>3</td>\n",
              "    </tr>\n",
              "    <tr>\n",
              "      <th>57550</th>\n",
              "      <td>0</td>\n",
              "      <td>0.125967</td>\n",
              "      <td>0.011023</td>\n",
              "      <td>-0.041616</td>\n",
              "      <td>4</td>\n",
              "    </tr>\n",
              "    <tr>\n",
              "      <th>8837</th>\n",
              "      <td>2</td>\n",
              "      <td>7.161356</td>\n",
              "      <td>-2.137124</td>\n",
              "      <td>2.176030</td>\n",
              "      <td>3</td>\n",
              "    </tr>\n",
              "    <tr>\n",
              "      <th>5327</th>\n",
              "      <td>0</td>\n",
              "      <td>-1.915455</td>\n",
              "      <td>1.165270</td>\n",
              "      <td>-1.140014</td>\n",
              "      <td>4</td>\n",
              "    </tr>\n",
              "    <tr>\n",
              "      <th>36352</th>\n",
              "      <td>2</td>\n",
              "      <td>0.071779</td>\n",
              "      <td>0.023712</td>\n",
              "      <td>-0.068976</td>\n",
              "      <td>2</td>\n",
              "    </tr>\n",
              "    <tr>\n",
              "      <th>41406</th>\n",
              "      <td>2</td>\n",
              "      <td>-2.238878</td>\n",
              "      <td>-8.352621</td>\n",
              "      <td>-5.673360</td>\n",
              "      <td>3</td>\n",
              "    </tr>\n",
              "    <tr>\n",
              "      <th>27979</th>\n",
              "      <td>0</td>\n",
              "      <td>-8.759636</td>\n",
              "      <td>-3.181894</td>\n",
              "      <td>1.448193</td>\n",
              "      <td>3</td>\n",
              "    </tr>\n",
              "    <tr>\n",
              "      <th>74972</th>\n",
              "      <td>3</td>\n",
              "      <td>2.991379</td>\n",
              "      <td>-7.671248</td>\n",
              "      <td>4.924161</td>\n",
              "      <td>3</td>\n",
              "    </tr>\n",
              "    <tr>\n",
              "      <th>31832</th>\n",
              "      <td>1</td>\n",
              "      <td>5.413290</td>\n",
              "      <td>7.940370</td>\n",
              "      <td>3.328988</td>\n",
              "      <td>3</td>\n",
              "    </tr>\n",
              "    <tr>\n",
              "      <th>16395</th>\n",
              "      <td>0</td>\n",
              "      <td>0.026807</td>\n",
              "      <td>0.080827</td>\n",
              "      <td>-0.083725</td>\n",
              "      <td>4</td>\n",
              "    </tr>\n",
              "    <tr>\n",
              "      <th>47487</th>\n",
              "      <td>1</td>\n",
              "      <td>0.609079</td>\n",
              "      <td>1.720014</td>\n",
              "      <td>-1.228636</td>\n",
              "      <td>2</td>\n",
              "    </tr>\n",
              "  </tbody>\n",
              "</table>\n",
              "</div>"
            ],
            "text/plain": [
              "       timestamp         x         y         z  type\n",
              "11461          3  0.006626  0.001715  0.001208     4\n",
              "7112           1 -1.198896 -2.894789  2.663176     2\n",
              "13383          3  0.007730  0.001802  0.004887     2\n",
              "25365          2 -0.546008 -0.031650  0.130098     4\n",
              "35287          1 -4.599004  0.496122 -0.542906     1\n",
              "47188          1 -0.045806  0.400539 -0.610397     4\n",
              "44164          2 -1.075425  0.836135  0.105588     2\n",
              "86511          2  1.772742  0.596813  1.253376     4\n",
              "25253          3 -2.759063 -8.555010 -0.392783     3\n",
              "24647          1  3.907487 -0.436792  9.121011     3\n",
              "57550          0  0.125967  0.011023 -0.041616     4\n",
              "8837           2  7.161356 -2.137124  2.176030     3\n",
              "5327           0 -1.915455  1.165270 -1.140014     4\n",
              "36352          2  0.071779  0.023712 -0.068976     2\n",
              "41406          2 -2.238878 -8.352621 -5.673360     3\n",
              "27979          0 -8.759636 -3.181894  1.448193     3\n",
              "74972          3  2.991379 -7.671248  4.924161     3\n",
              "31832          1  5.413290  7.940370  3.328988     3\n",
              "16395          0  0.026807  0.080827 -0.083725     4\n",
              "47487          1  0.609079  1.720014 -1.228636     2"
            ]
          },
          "metadata": {
            "tags": []
          },
          "execution_count": 254
        }
      ]
    },
    {
      "cell_type": "code",
      "metadata": {
        "id": "NDrPl4Ga2hn9",
        "colab": {
          "base_uri": "https://localhost:8080/",
          "height": 343
        },
        "outputId": "ee0268f9-c896-47c1-833d-8e039c1cec33"
      },
      "source": [
        "X[X.columns[0]] = round(X[X.columns[0]],3)\n",
        "X[X.columns[1]] = round(X[X.columns[1]],3)\n",
        "X[X.columns[2]] = round(X[X.columns[2]],3)"
      ],
      "execution_count": null,
      "outputs": [
        {
          "output_type": "stream",
          "text": [
            "/usr/local/lib/python3.6/dist-packages/ipykernel_launcher.py:1: SettingWithCopyWarning: \n",
            "A value is trying to be set on a copy of a slice from a DataFrame.\n",
            "Try using .loc[row_indexer,col_indexer] = value instead\n",
            "\n",
            "See the caveats in the documentation: http://pandas.pydata.org/pandas-docs/stable/user_guide/indexing.html#returning-a-view-versus-a-copy\n",
            "  \"\"\"Entry point for launching an IPython kernel.\n",
            "/usr/local/lib/python3.6/dist-packages/ipykernel_launcher.py:2: SettingWithCopyWarning: \n",
            "A value is trying to be set on a copy of a slice from a DataFrame.\n",
            "Try using .loc[row_indexer,col_indexer] = value instead\n",
            "\n",
            "See the caveats in the documentation: http://pandas.pydata.org/pandas-docs/stable/user_guide/indexing.html#returning-a-view-versus-a-copy\n",
            "  \n",
            "/usr/local/lib/python3.6/dist-packages/ipykernel_launcher.py:3: SettingWithCopyWarning: \n",
            "A value is trying to be set on a copy of a slice from a DataFrame.\n",
            "Try using .loc[row_indexer,col_indexer] = value instead\n",
            "\n",
            "See the caveats in the documentation: http://pandas.pydata.org/pandas-docs/stable/user_guide/indexing.html#returning-a-view-versus-a-copy\n",
            "  This is separate from the ipykernel package so we can avoid doing imports until\n"
          ],
          "name": "stderr"
        }
      ]
    },
    {
      "cell_type": "code",
      "metadata": {
        "id": "X7-N19SK6Paw"
      },
      "source": [
        "from sklearn.model_selection import train_test_split\n",
        "\n",
        "X_train, X_test, y_train, y_test = train_test_split(X, y, test_size=0.30, random_state=42)"
      ],
      "execution_count": null,
      "outputs": []
    },
    {
      "cell_type": "code",
      "metadata": {
        "id": "C31qXU856DyF",
        "outputId": "a923b71b-d1ac-45ba-eb9e-5ad90b98e821",
        "colab": {
          "base_uri": "https://localhost:8080/",
          "height": 51
        }
      },
      "source": [
        "from sklearn.tree import DecisionTreeClassifier\n",
        "from sklearn.model_selection import cross_val_score\n",
        "\n",
        "#Decesion Tree\n",
        "decision_tree = DecisionTreeClassifier()\n",
        "decision_tree.fit(X_train,y_train)\n",
        "\n",
        "scores = cross_val_score(decision_tree, X, y.values.ravel(), cv=5)\n",
        "print(\"Accuracy: %0.2f (+/- %0.2f)\" % (scores.mean(), scores.std() * 2))\n",
        "                                       \n",
        "y_pred = decision_tree.predict(X_test)\n",
        "decision_tree_accuracy = round(decision_tree.score(X_train,y_train.values.ravel()) * 100,2)\n",
        "print(round(decision_tree_accuracy,2),'%')"
      ],
      "execution_count": null,
      "outputs": [
        {
          "output_type": "stream",
          "text": [
            "Accuracy: 0.82 (+/- 0.00)\n",
            "99.16 %\n"
          ],
          "name": "stdout"
        }
      ]
    }
  ]
}